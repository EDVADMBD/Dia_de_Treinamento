{
  "nbformat": 4,
  "nbformat_minor": 0,
  "metadata": {
    "colab": {
      "provenance": []
    },
    "kernelspec": {
      "name": "python3",
      "display_name": "Python 3"
    },
    "language_info": {
      "name": "python"
    }
  },
  "cells": [
    {
      "cell_type": "code",
      "execution_count": 1,
      "metadata": {
        "id": "qaqBoOJwsWd_"
      },
      "outputs": [],
      "source": [
        "#XPATHS\n",
        "\n",
        "XPATHS = {\n",
        "    # Login\n",
        "    \"usuario\": \"//input[@placeholder='Usuário' and @type='text']\",\n",
        "    \"senha\": \"//input[@placeholder='Senha' and @type='password']\",\n",
        "    \"botao_login\": \"//button[@type='submit' and contains(text(), 'Entrar')]\",\n",
        "\n",
        "    # Spinner carregando\n",
        "    \"spinner_carregando\": \"//div[contains(text(), 'Carregando...')]\",\n",
        "    \"loading_gif\": \"//img[contains(@src, 'loading.gif')]\",\n",
        "\n",
        "    # Código busca\n",
        "    \"codigo_icare\": \"//input[@id='id' and @type='text']\",\n",
        "    \"elemento_pos_código_icare\": \"//div[span[text()='Dados do Cliente']]\",\n",
        "\n",
        "    # Produtos\n",
        "    \"menu_produtos\": \"//a[text()='Produtos']\",\n",
        "    \"submenu_equipamentos\": \"//a[text()='Equipamentos']\",\n",
        "    \"titulo_equipamentos\": \"//div[@class='Titulo' and contains(text(), 'Equipamentos')]\",\n",
        "\n",
        "    # Técnica\n",
        "    \"menu_tecnica\": \"//a[text()='Técnica']\",\n",
        "    \"submenu_hist_eventos\": \"//a[text()='Histórico de Eventos']\",\n",
        "    \"titulo_historico_eventos\": \"//div[@class='Titulo' and contains(text(), 'Histórico de Eventos')]\",\n",
        "\n",
        "    # Cadasro\n",
        "    \"menu_cadastro\": \"//a[text()='Cadastro']\",\n",
        "    \"submenu_consulta_osi\": \"//a[contains(@href, '/OsiSearch/Index/?tab=4') and text()='Consulta OSI']\",\n",
        "    \"titulo_ordem_servico\": \"//label[contains(text(), 'Ordem de Serviço Interna')]\",\n",
        "\n",
        "    # Financeiro\n",
        "    \"menu_financeiro\": \"//a[text()='Financeiro']\",\n",
        "    \"submenu_faturas\": \"//a[text()='Faturas']\",\n",
        "    \"submenu_negociacao\": \"//a[text()='Negociação']\",\n",
        "    \"radio_faturas\": \"//input[@type='radio' and @value='todos']\",\n",
        "    \"expandir_fatura\": \"//input[@type='image' and contains(@src, 'mais.png')]\",\n",
        "    \"tabela_faturas\": \"//div[@id='detailInvoice1']//tbody\",\n",
        "    \"linhas_faturas\": \"//div[@id='detailInvoice1']//tbody/tr\",\n",
        "\n",
        "    # Fechar Pop-up confirmação de endereço\n",
        "    \"confirmar_endereco\": \"//div[@class='Titulo' and text()='Confirmação de Endereço']\"\n",
        "}"
      ]
    },
    {
      "cell_type": "code",
      "source": [
        "#config\n",
        "\n",
        "!pip install python-dotenv\n",
        "!pip install python-dotenv\n",
        "\n",
        "#config\n",
        "\n",
        "from dotenv import load_dotenv\n",
        "import os\n",
        "\n",
        "\n",
        "def carregar_credenciais():\n",
        "    load_dotenv()\n",
        "    return os.getenv(\"USUARIO_ICARE\"), os.getenv(\"SENHA_ICARE\")\n",
        "\n",
        "from dotenv import load_dotenv\n",
        "import os\n",
        "\n",
        "\n",
        "def carregar_credenciais():\n",
        "    load_dotenv()\n",
        "    return os.getenv(\"USUARIO_ICARE\"), os.getenv(\"SENHA_ICARE\")"
      ],
      "metadata": {
        "colab": {
          "base_uri": "https://localhost:8080/"
        },
        "id": "h3x32AySsrAs",
        "outputId": "f6003ae5-0fc8-433f-ce27-4ac8857bcac9"
      },
      "execution_count": 3,
      "outputs": [
        {
          "output_type": "stream",
          "name": "stdout",
          "text": [
            "Collecting python-dotenv\n",
            "  Downloading python_dotenv-1.1.0-py3-none-any.whl.metadata (24 kB)\n",
            "Downloading python_dotenv-1.1.0-py3-none-any.whl (20 kB)\n",
            "Installing collected packages: python-dotenv\n",
            "Successfully installed python-dotenv-1.1.0\n",
            "Requirement already satisfied: python-dotenv in /usr/local/lib/python3.11/dist-packages (1.1.0)\n"
          ]
        }
      ]
    },
    {
      "cell_type": "code",
      "source": [
        "#Browser\n",
        "\n",
        "!pip install selenium\n",
        "\n",
        "from selenium import webdriver\n",
        "import logging\n",
        "\n",
        "\n",
        "def iniciar_driver():\n",
        "    logging.info(\"Iniciando WebDriver...\")\n",
        "    options = webdriver.ChromeOptions()\n",
        "    options.add_argument(\"--start-maximized\")\n",
        "    driver = webdriver.Chrome(options=options)\n",
        "    driver.get(\"https://icareclientes-av.sky.com.br/\")\n",
        "\n",
        "    return driver"
      ],
      "metadata": {
        "colab": {
          "base_uri": "https://localhost:8080/"
        },
        "id": "i0u93YpWtO-I",
        "outputId": "fd1c090d-cab4-45c7-b1f9-de0fe15c9b15"
      },
      "execution_count": 5,
      "outputs": [
        {
          "output_type": "stream",
          "name": "stdout",
          "text": [
            "Collecting selenium\n",
            "  Downloading selenium-4.33.0-py3-none-any.whl.metadata (7.5 kB)\n",
            "Requirement already satisfied: urllib3~=2.4.0 in /usr/local/lib/python3.11/dist-packages (from urllib3[socks]~=2.4.0->selenium) (2.4.0)\n",
            "Collecting trio~=0.30.0 (from selenium)\n",
            "  Downloading trio-0.30.0-py3-none-any.whl.metadata (8.5 kB)\n",
            "Collecting trio-websocket~=0.12.2 (from selenium)\n",
            "  Downloading trio_websocket-0.12.2-py3-none-any.whl.metadata (5.1 kB)\n",
            "Requirement already satisfied: certifi>=2025.4.26 in /usr/local/lib/python3.11/dist-packages (from selenium) (2025.4.26)\n",
            "Collecting typing_extensions~=4.13.2 (from selenium)\n",
            "  Downloading typing_extensions-4.13.2-py3-none-any.whl.metadata (3.0 kB)\n",
            "Requirement already satisfied: websocket-client~=1.8.0 in /usr/local/lib/python3.11/dist-packages (from selenium) (1.8.0)\n",
            "Requirement already satisfied: attrs>=23.2.0 in /usr/local/lib/python3.11/dist-packages (from trio~=0.30.0->selenium) (25.3.0)\n",
            "Requirement already satisfied: sortedcontainers in /usr/local/lib/python3.11/dist-packages (from trio~=0.30.0->selenium) (2.4.0)\n",
            "Requirement already satisfied: idna in /usr/local/lib/python3.11/dist-packages (from trio~=0.30.0->selenium) (3.10)\n",
            "Collecting outcome (from trio~=0.30.0->selenium)\n",
            "  Downloading outcome-1.3.0.post0-py2.py3-none-any.whl.metadata (2.6 kB)\n",
            "Requirement already satisfied: sniffio>=1.3.0 in /usr/local/lib/python3.11/dist-packages (from trio~=0.30.0->selenium) (1.3.1)\n",
            "Collecting wsproto>=0.14 (from trio-websocket~=0.12.2->selenium)\n",
            "  Downloading wsproto-1.2.0-py3-none-any.whl.metadata (5.6 kB)\n",
            "Requirement already satisfied: pysocks!=1.5.7,<2.0,>=1.5.6 in /usr/local/lib/python3.11/dist-packages (from urllib3[socks]~=2.4.0->selenium) (1.7.1)\n",
            "Requirement already satisfied: h11<1,>=0.9.0 in /usr/local/lib/python3.11/dist-packages (from wsproto>=0.14->trio-websocket~=0.12.2->selenium) (0.16.0)\n",
            "Downloading selenium-4.33.0-py3-none-any.whl (9.4 MB)\n",
            "\u001b[2K   \u001b[90m━━━━━━━━━━━━━━━━━━━━━━━━━━━━━━━━━━━━━━━━\u001b[0m \u001b[32m9.4/9.4 MB\u001b[0m \u001b[31m81.8 MB/s\u001b[0m eta \u001b[36m0:00:00\u001b[0m\n",
            "\u001b[?25hDownloading trio-0.30.0-py3-none-any.whl (499 kB)\n",
            "\u001b[2K   \u001b[90m━━━━━━━━━━━━━━━━━━━━━━━━━━━━━━━━━━━━━━━━\u001b[0m \u001b[32m499.2/499.2 kB\u001b[0m \u001b[31m38.2 MB/s\u001b[0m eta \u001b[36m0:00:00\u001b[0m\n",
            "\u001b[?25hDownloading trio_websocket-0.12.2-py3-none-any.whl (21 kB)\n",
            "Downloading typing_extensions-4.13.2-py3-none-any.whl (45 kB)\n",
            "\u001b[2K   \u001b[90m━━━━━━━━━━━━━━━━━━━━━━━━━━━━━━━━━━━━━━━━\u001b[0m \u001b[32m45.8/45.8 kB\u001b[0m \u001b[31m4.3 MB/s\u001b[0m eta \u001b[36m0:00:00\u001b[0m\n",
            "\u001b[?25hDownloading outcome-1.3.0.post0-py2.py3-none-any.whl (10 kB)\n",
            "Downloading wsproto-1.2.0-py3-none-any.whl (24 kB)\n",
            "Installing collected packages: wsproto, typing_extensions, outcome, trio, trio-websocket, selenium\n",
            "  Attempting uninstall: typing_extensions\n",
            "    Found existing installation: typing_extensions 4.14.0\n",
            "    Uninstalling typing_extensions-4.14.0:\n",
            "      Successfully uninstalled typing_extensions-4.14.0\n",
            "\u001b[31mERROR: pip's dependency resolver does not currently take into account all the packages that are installed. This behaviour is the source of the following dependency conflicts.\n",
            "torch 2.6.0+cu124 requires nvidia-cublas-cu12==12.4.5.8; platform_system == \"Linux\" and platform_machine == \"x86_64\", but you have nvidia-cublas-cu12 12.5.3.2 which is incompatible.\n",
            "torch 2.6.0+cu124 requires nvidia-cuda-cupti-cu12==12.4.127; platform_system == \"Linux\" and platform_machine == \"x86_64\", but you have nvidia-cuda-cupti-cu12 12.5.82 which is incompatible.\n",
            "torch 2.6.0+cu124 requires nvidia-cuda-nvrtc-cu12==12.4.127; platform_system == \"Linux\" and platform_machine == \"x86_64\", but you have nvidia-cuda-nvrtc-cu12 12.5.82 which is incompatible.\n",
            "torch 2.6.0+cu124 requires nvidia-cuda-runtime-cu12==12.4.127; platform_system == \"Linux\" and platform_machine == \"x86_64\", but you have nvidia-cuda-runtime-cu12 12.5.82 which is incompatible.\n",
            "torch 2.6.0+cu124 requires nvidia-cudnn-cu12==9.1.0.70; platform_system == \"Linux\" and platform_machine == \"x86_64\", but you have nvidia-cudnn-cu12 9.3.0.75 which is incompatible.\n",
            "torch 2.6.0+cu124 requires nvidia-cufft-cu12==11.2.1.3; platform_system == \"Linux\" and platform_machine == \"x86_64\", but you have nvidia-cufft-cu12 11.2.3.61 which is incompatible.\n",
            "torch 2.6.0+cu124 requires nvidia-curand-cu12==10.3.5.147; platform_system == \"Linux\" and platform_machine == \"x86_64\", but you have nvidia-curand-cu12 10.3.6.82 which is incompatible.\n",
            "torch 2.6.0+cu124 requires nvidia-cusolver-cu12==11.6.1.9; platform_system == \"Linux\" and platform_machine == \"x86_64\", but you have nvidia-cusolver-cu12 11.6.3.83 which is incompatible.\n",
            "torch 2.6.0+cu124 requires nvidia-cusparse-cu12==12.3.1.170; platform_system == \"Linux\" and platform_machine == \"x86_64\", but you have nvidia-cusparse-cu12 12.5.1.3 which is incompatible.\n",
            "torch 2.6.0+cu124 requires nvidia-nvjitlink-cu12==12.4.127; platform_system == \"Linux\" and platform_machine == \"x86_64\", but you have nvidia-nvjitlink-cu12 12.5.82 which is incompatible.\u001b[0m\u001b[31m\n",
            "\u001b[0mSuccessfully installed outcome-1.3.0.post0 selenium-4.33.0 trio-0.30.0 trio-websocket-0.12.2 typing_extensions-4.13.2 wsproto-1.2.0\n"
          ]
        }
      ]
    },
    {
      "cell_type": "markdown",
      "source": [],
      "metadata": {
        "id": "ttCv_U2ytnhz"
      }
    }
  ]
}