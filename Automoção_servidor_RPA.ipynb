{
  "nbformat": 4,
  "nbformat_minor": 0,
  "metadata": {
    "colab": {
      "provenance": []
    },
    "kernelspec": {
      "name": "python3",
      "display_name": "Python 3"
    },
    "language_info": {
      "name": "python"
    }
  },
  "cells": [
    {
      "cell_type": "code",
      "source": [
        "# Instala o selenium\n",
        "!pip install selenium\n",
        "\n",
        "# Instala o Chromium e o ChromeDriver\n",
        "!apt update\n",
        "!apt install chromium-chromedriver\n",
        "!cp /usr/lib/chromium-browser/chromedriver /usr/bin\n",
        "\n",
        "# Configura o navegador para funcionar com o Selenium no Colab\n",
        "import sys\n",
        "sys.path.insert(0, '/usr/lib/chromium-browser/')\n",
        "\n",
        "from selenium import webdriver\n",
        "from selenium.webdriver.chrome.options import Options\n",
        "\n",
        "# Define as opções do navegador\n",
        "chrome_options = Options()\n",
        "chrome_options.add_argument(\"--headless\")  # sem interface gráfica\n",
        "chrome_options.add_argument(\"--no-sandbox\")\n",
        "chrome_options.add_argument(\"--disable-dev-shm-usage\")\n",
        "\n",
        "# Inicializa o driver\n",
        "driver = webdriver.Chrome('chromedriver', options=chrome_options)\n",
        "driver.get(\"https://www.google.com\")\n",
        "print(driver.title)\n"
      ],
      "metadata": {
        "colab": {
          "base_uri": "https://localhost:8080/",
          "height": 855
        },
        "id": "BnFShCLloq8C",
        "outputId": "eb26d7d9-4792-4959-915e-f36c355985f5"
      },
      "execution_count": 47,
      "outputs": [
        {
          "output_type": "stream",
          "name": "stdout",
          "text": [
            "Requirement already satisfied: selenium in /usr/local/lib/python3.11/dist-packages (4.33.0)\n",
            "Requirement already satisfied: urllib3~=2.4.0 in /usr/local/lib/python3.11/dist-packages (from urllib3[socks]~=2.4.0->selenium) (2.4.0)\n",
            "Requirement already satisfied: trio~=0.30.0 in /usr/local/lib/python3.11/dist-packages (from selenium) (0.30.0)\n",
            "Requirement already satisfied: trio-websocket~=0.12.2 in /usr/local/lib/python3.11/dist-packages (from selenium) (0.12.2)\n",
            "Requirement already satisfied: certifi>=2025.4.26 in /usr/local/lib/python3.11/dist-packages (from selenium) (2025.4.26)\n",
            "Requirement already satisfied: typing_extensions~=4.13.2 in /usr/local/lib/python3.11/dist-packages (from selenium) (4.13.2)\n",
            "Requirement already satisfied: websocket-client~=1.8.0 in /usr/local/lib/python3.11/dist-packages (from selenium) (1.8.0)\n",
            "Requirement already satisfied: attrs>=23.2.0 in /usr/local/lib/python3.11/dist-packages (from trio~=0.30.0->selenium) (25.3.0)\n",
            "Requirement already satisfied: sortedcontainers in /usr/local/lib/python3.11/dist-packages (from trio~=0.30.0->selenium) (2.4.0)\n",
            "Requirement already satisfied: idna in /usr/local/lib/python3.11/dist-packages (from trio~=0.30.0->selenium) (3.10)\n",
            "Requirement already satisfied: outcome in /usr/local/lib/python3.11/dist-packages (from trio~=0.30.0->selenium) (1.3.0.post0)\n",
            "Requirement already satisfied: sniffio>=1.3.0 in /usr/local/lib/python3.11/dist-packages (from trio~=0.30.0->selenium) (1.3.1)\n",
            "Requirement already satisfied: wsproto>=0.14 in /usr/local/lib/python3.11/dist-packages (from trio-websocket~=0.12.2->selenium) (1.2.0)\n",
            "Requirement already satisfied: pysocks!=1.5.7,<2.0,>=1.5.6 in /usr/local/lib/python3.11/dist-packages (from urllib3[socks]~=2.4.0->selenium) (1.7.1)\n",
            "Requirement already satisfied: h11<1,>=0.9.0 in /usr/local/lib/python3.11/dist-packages (from wsproto>=0.14->trio-websocket~=0.12.2->selenium) (0.16.0)\n",
            "Hit:1 https://developer.download.nvidia.com/compute/cuda/repos/ubuntu2204/x86_64  InRelease\n",
            "Hit:2 https://cloud.r-project.org/bin/linux/ubuntu jammy-cran40/ InRelease\n",
            "Hit:3 https://r2u.stat.illinois.edu/ubuntu jammy InRelease\n",
            "Hit:4 http://security.ubuntu.com/ubuntu jammy-security InRelease\n",
            "Hit:5 http://archive.ubuntu.com/ubuntu jammy InRelease\n",
            "Hit:6 http://archive.ubuntu.com/ubuntu jammy-updates InRelease\n",
            "Hit:7 http://archive.ubuntu.com/ubuntu jammy-backports InRelease\n",
            "Hit:8 https://ppa.launchpadcontent.net/deadsnakes/ppa/ubuntu jammy InRelease\n",
            "Hit:9 https://ppa.launchpadcontent.net/graphics-drivers/ppa/ubuntu jammy InRelease\n",
            "Hit:10 https://ppa.launchpadcontent.net/ubuntugis/ppa/ubuntu jammy InRelease\n",
            "Reading package lists... Done\n",
            "Building dependency tree... Done\n",
            "Reading state information... Done\n",
            "34 packages can be upgraded. Run 'apt list --upgradable' to see them.\n",
            "\u001b[1;33mW: \u001b[0mSkipping acquire of configured file 'main/source/Sources' as repository 'https://r2u.stat.illinois.edu/ubuntu jammy InRelease' does not seem to provide it (sources.list entry misspelt?)\u001b[0m\n",
            "Reading package lists... Done\n",
            "Building dependency tree... Done\n",
            "Reading state information... Done\n",
            "chromium-chromedriver is already the newest version (1:85.0.4183.83-0ubuntu2.22.04.1).\n",
            "0 upgraded, 0 newly installed, 0 to remove and 34 not upgraded.\n",
            "cp: '/usr/lib/chromium-browser/chromedriver' and '/usr/bin/chromedriver' are the same file\n"
          ]
        },
        {
          "output_type": "error",
          "ename": "TypeError",
          "evalue": "WebDriver.__init__() got multiple values for argument 'options'",
          "traceback": [
            "\u001b[0;31m---------------------------------------------------------------------------\u001b[0m",
            "\u001b[0;31mTypeError\u001b[0m                                 Traceback (most recent call last)",
            "\u001b[0;32m<ipython-input-47-1268142170>\u001b[0m in \u001b[0;36m<cell line: 0>\u001b[0;34m()\u001b[0m\n\u001b[1;32m     21\u001b[0m \u001b[0;34m\u001b[0m\u001b[0m\n\u001b[1;32m     22\u001b[0m \u001b[0;31m# Inicializa o driver\u001b[0m\u001b[0;34m\u001b[0m\u001b[0;34m\u001b[0m\u001b[0m\n\u001b[0;32m---> 23\u001b[0;31m \u001b[0mdriver\u001b[0m \u001b[0;34m=\u001b[0m \u001b[0mwebdriver\u001b[0m\u001b[0;34m.\u001b[0m\u001b[0mChrome\u001b[0m\u001b[0;34m(\u001b[0m\u001b[0;34m'chromedriver'\u001b[0m\u001b[0;34m,\u001b[0m \u001b[0moptions\u001b[0m\u001b[0;34m=\u001b[0m\u001b[0mchrome_options\u001b[0m\u001b[0;34m)\u001b[0m\u001b[0;34m\u001b[0m\u001b[0;34m\u001b[0m\u001b[0m\n\u001b[0m\u001b[1;32m     24\u001b[0m \u001b[0mdriver\u001b[0m\u001b[0;34m.\u001b[0m\u001b[0mget\u001b[0m\u001b[0;34m(\u001b[0m\u001b[0;34m\"https://www.google.com\"\u001b[0m\u001b[0;34m)\u001b[0m\u001b[0;34m\u001b[0m\u001b[0;34m\u001b[0m\u001b[0m\n\u001b[1;32m     25\u001b[0m \u001b[0mprint\u001b[0m\u001b[0;34m(\u001b[0m\u001b[0mdriver\u001b[0m\u001b[0;34m.\u001b[0m\u001b[0mtitle\u001b[0m\u001b[0;34m)\u001b[0m\u001b[0;34m\u001b[0m\u001b[0;34m\u001b[0m\u001b[0m\n",
            "\u001b[0;31mTypeError\u001b[0m: WebDriver.__init__() got multiple values for argument 'options'"
          ]
        }
      ]
    },
    {
      "cell_type": "code",
      "source": [
        "!pip install python-dotenv\n",
        "!pip install undetected-chromedriver\n"
      ],
      "metadata": {
        "colab": {
          "base_uri": "https://localhost:8080/"
        },
        "id": "jTpeZUZApkbR",
        "outputId": "ee7609c9-56c9-4488-8de7-b1b1c96f1349"
      },
      "execution_count": 48,
      "outputs": [
        {
          "output_type": "stream",
          "name": "stdout",
          "text": [
            "Requirement already satisfied: python-dotenv in /usr/local/lib/python3.11/dist-packages (1.1.0)\n",
            "Requirement already satisfied: undetected-chromedriver in /usr/local/lib/python3.11/dist-packages (3.5.5)\n",
            "Requirement already satisfied: selenium>=4.9.0 in /usr/local/lib/python3.11/dist-packages (from undetected-chromedriver) (4.33.0)\n",
            "Requirement already satisfied: requests in /usr/local/lib/python3.11/dist-packages (from undetected-chromedriver) (2.32.3)\n",
            "Requirement already satisfied: websockets in /usr/local/lib/python3.11/dist-packages (from undetected-chromedriver) (15.0.1)\n",
            "Requirement already satisfied: urllib3~=2.4.0 in /usr/local/lib/python3.11/dist-packages (from urllib3[socks]~=2.4.0->selenium>=4.9.0->undetected-chromedriver) (2.4.0)\n",
            "Requirement already satisfied: trio~=0.30.0 in /usr/local/lib/python3.11/dist-packages (from selenium>=4.9.0->undetected-chromedriver) (0.30.0)\n",
            "Requirement already satisfied: trio-websocket~=0.12.2 in /usr/local/lib/python3.11/dist-packages (from selenium>=4.9.0->undetected-chromedriver) (0.12.2)\n",
            "Requirement already satisfied: certifi>=2025.4.26 in /usr/local/lib/python3.11/dist-packages (from selenium>=4.9.0->undetected-chromedriver) (2025.4.26)\n",
            "Requirement already satisfied: typing_extensions~=4.13.2 in /usr/local/lib/python3.11/dist-packages (from selenium>=4.9.0->undetected-chromedriver) (4.13.2)\n",
            "Requirement already satisfied: websocket-client~=1.8.0 in /usr/local/lib/python3.11/dist-packages (from selenium>=4.9.0->undetected-chromedriver) (1.8.0)\n",
            "Requirement already satisfied: charset-normalizer<4,>=2 in /usr/local/lib/python3.11/dist-packages (from requests->undetected-chromedriver) (3.4.2)\n",
            "Requirement already satisfied: idna<4,>=2.5 in /usr/local/lib/python3.11/dist-packages (from requests->undetected-chromedriver) (3.10)\n",
            "Requirement already satisfied: attrs>=23.2.0 in /usr/local/lib/python3.11/dist-packages (from trio~=0.30.0->selenium>=4.9.0->undetected-chromedriver) (25.3.0)\n",
            "Requirement already satisfied: sortedcontainers in /usr/local/lib/python3.11/dist-packages (from trio~=0.30.0->selenium>=4.9.0->undetected-chromedriver) (2.4.0)\n",
            "Requirement already satisfied: outcome in /usr/local/lib/python3.11/dist-packages (from trio~=0.30.0->selenium>=4.9.0->undetected-chromedriver) (1.3.0.post0)\n",
            "Requirement already satisfied: sniffio>=1.3.0 in /usr/local/lib/python3.11/dist-packages (from trio~=0.30.0->selenium>=4.9.0->undetected-chromedriver) (1.3.1)\n",
            "Requirement already satisfied: wsproto>=0.14 in /usr/local/lib/python3.11/dist-packages (from trio-websocket~=0.12.2->selenium>=4.9.0->undetected-chromedriver) (1.2.0)\n",
            "Requirement already satisfied: pysocks!=1.5.7,<2.0,>=1.5.6 in /usr/local/lib/python3.11/dist-packages (from urllib3[socks]~=2.4.0->selenium>=4.9.0->undetected-chromedriver) (1.7.1)\n",
            "Requirement already satisfied: h11<1,>=0.9.0 in /usr/local/lib/python3.11/dist-packages (from wsproto>=0.14->trio-websocket~=0.12.2->selenium>=4.9.0->undetected-chromedriver) (0.16.0)\n"
          ]
        }
      ]
    },
    {
      "cell_type": "code",
      "source": [
        "!which chromium-browser\n",
        "!which chromedriver\n",
        "!chromedriver --version\n",
        "!chromium-browser --version\n"
      ],
      "metadata": {
        "colab": {
          "base_uri": "https://localhost:8080/"
        },
        "id": "ELNX65b0uslm",
        "outputId": "9ab94386-f729-46c9-9b7f-ec1c8cbd6333"
      },
      "execution_count": 49,
      "outputs": [
        {
          "output_type": "stream",
          "name": "stdout",
          "text": [
            "/usr/bin/chromium-browser\n",
            "/usr/bin/chromedriver\n",
            "\n",
            "Command '/usr/bin/chromedriver' requires the chromium snap to be installed.\n",
            "Please install it with:\n",
            "\n",
            "snap install chromium\n",
            "\n",
            "\n",
            "Command '/usr/bin/chromium-browser' requires the chromium snap to be installed.\n",
            "Please install it with:\n",
            "\n",
            "snap install chromium\n",
            "\n"
          ]
        }
      ]
    },
    {
      "cell_type": "code",
      "source": [
        "!pip install undetected-chromedriver\n"
      ],
      "metadata": {
        "colab": {
          "base_uri": "https://localhost:8080/"
        },
        "id": "DxzeMoqVu22t",
        "outputId": "53a118f0-4eef-4026-b43c-3040ddfb03e0"
      },
      "execution_count": 50,
      "outputs": [
        {
          "output_type": "stream",
          "name": "stdout",
          "text": [
            "Requirement already satisfied: undetected-chromedriver in /usr/local/lib/python3.11/dist-packages (3.5.5)\n",
            "Requirement already satisfied: selenium>=4.9.0 in /usr/local/lib/python3.11/dist-packages (from undetected-chromedriver) (4.33.0)\n",
            "Requirement already satisfied: requests in /usr/local/lib/python3.11/dist-packages (from undetected-chromedriver) (2.32.3)\n",
            "Requirement already satisfied: websockets in /usr/local/lib/python3.11/dist-packages (from undetected-chromedriver) (15.0.1)\n",
            "Requirement already satisfied: urllib3~=2.4.0 in /usr/local/lib/python3.11/dist-packages (from urllib3[socks]~=2.4.0->selenium>=4.9.0->undetected-chromedriver) (2.4.0)\n",
            "Requirement already satisfied: trio~=0.30.0 in /usr/local/lib/python3.11/dist-packages (from selenium>=4.9.0->undetected-chromedriver) (0.30.0)\n",
            "Requirement already satisfied: trio-websocket~=0.12.2 in /usr/local/lib/python3.11/dist-packages (from selenium>=4.9.0->undetected-chromedriver) (0.12.2)\n",
            "Requirement already satisfied: certifi>=2025.4.26 in /usr/local/lib/python3.11/dist-packages (from selenium>=4.9.0->undetected-chromedriver) (2025.4.26)\n",
            "Requirement already satisfied: typing_extensions~=4.13.2 in /usr/local/lib/python3.11/dist-packages (from selenium>=4.9.0->undetected-chromedriver) (4.13.2)\n",
            "Requirement already satisfied: websocket-client~=1.8.0 in /usr/local/lib/python3.11/dist-packages (from selenium>=4.9.0->undetected-chromedriver) (1.8.0)\n",
            "Requirement already satisfied: charset-normalizer<4,>=2 in /usr/local/lib/python3.11/dist-packages (from requests->undetected-chromedriver) (3.4.2)\n",
            "Requirement already satisfied: idna<4,>=2.5 in /usr/local/lib/python3.11/dist-packages (from requests->undetected-chromedriver) (3.10)\n",
            "Requirement already satisfied: attrs>=23.2.0 in /usr/local/lib/python3.11/dist-packages (from trio~=0.30.0->selenium>=4.9.0->undetected-chromedriver) (25.3.0)\n",
            "Requirement already satisfied: sortedcontainers in /usr/local/lib/python3.11/dist-packages (from trio~=0.30.0->selenium>=4.9.0->undetected-chromedriver) (2.4.0)\n",
            "Requirement already satisfied: outcome in /usr/local/lib/python3.11/dist-packages (from trio~=0.30.0->selenium>=4.9.0->undetected-chromedriver) (1.3.0.post0)\n",
            "Requirement already satisfied: sniffio>=1.3.0 in /usr/local/lib/python3.11/dist-packages (from trio~=0.30.0->selenium>=4.9.0->undetected-chromedriver) (1.3.1)\n",
            "Requirement already satisfied: wsproto>=0.14 in /usr/local/lib/python3.11/dist-packages (from trio-websocket~=0.12.2->selenium>=4.9.0->undetected-chromedriver) (1.2.0)\n",
            "Requirement already satisfied: pysocks!=1.5.7,<2.0,>=1.5.6 in /usr/local/lib/python3.11/dist-packages (from urllib3[socks]~=2.4.0->selenium>=4.9.0->undetected-chromedriver) (1.7.1)\n",
            "Requirement already satisfied: h11<1,>=0.9.0 in /usr/local/lib/python3.11/dist-packages (from wsproto>=0.14->trio-websocket~=0.12.2->selenium>=4.9.0->undetected-chromedriver) (0.16.0)\n"
          ]
        }
      ]
    },
    {
      "cell_type": "code",
      "source": [
        "!apt-get update -qq\n",
        "!apt-get install -y chromium=107.0.5304.87-0ubuntu0.22.04.1 chromium-chromedriver=107.0.5304.87-0ubuntu0.22.04.1\n"
      ],
      "metadata": {
        "colab": {
          "base_uri": "https://localhost:8080/"
        },
        "id": "pq09JEJ7uUOv",
        "outputId": "c7d00177-3b46-46cb-8eb1-cb21daaee89c"
      },
      "execution_count": 51,
      "outputs": [
        {
          "output_type": "stream",
          "name": "stdout",
          "text": [
            "W: Skipping acquire of configured file 'main/source/Sources' as repository 'https://r2u.stat.illinois.edu/ubuntu jammy InRelease' does not seem to provide it (sources.list entry misspelt?)\n",
            "Reading package lists... Done\n",
            "Building dependency tree... Done\n",
            "Reading state information... Done\n",
            "Package chromium is not available, but is referred to by another package.\n",
            "This may mean that the package is missing, has been obsoleted, or\n",
            "is only available from another source\n",
            "However the following packages replace it:\n",
            "  chromium-bsu\n",
            "\n",
            "Package chromium-chromedriver is not available, but is referred to by another package.\n",
            "This may mean that the package is missing, has been obsoleted, or\n",
            "is only available from another source\n",
            "\n",
            "E: Version '107.0.5304.87-0ubuntu0.22.04.1' for 'chromium' was not found\n",
            "E: Version '107.0.5304.87-0ubuntu0.22.04.1' for 'chromium-chromedriver' was not found\n"
          ]
        }
      ]
    },
    {
      "cell_type": "code",
      "source": [
        "import undetected_chromedriver as uc\n",
        "import subprocess\n",
        "import logging\n",
        "\n",
        "def main():\n",
        "    # Verify the browser executable path before initializing the driver\n",
        "    try:\n",
        "        browser_path = subprocess.check_output(['which', 'chromium-browser']).strip().decode('utf-8')\n",
        "        logging.info(f\"Detected chromium-browser path: {browser_path}\")\n",
        "    except subprocess.CalledProcessError:\n",
        "        logging.error(\"Could not find chromium-browser executable. Please ensure it is installed.\")\n",
        "        return # Exit if browser not found\n",
        "\n",
        "    options = uc.ChromeOptions()\n",
        "    # Use the detected path\n",
        "    options.binary_location = browser_path\n",
        "    options.add_argument('--headless')\n",
        "    options.add_argument('--no-sandbox')\n",
        "    options.add_argument('--disable-dev-shm-usage')\n",
        "\n",
        "    # It might also be helpful to specify the driver_executable_path\n",
        "    # You can find the chromedriver path similarly: !which chromedriver\n",
        "    # options.driver_executable_path = '/path/to/chromedriver'\n",
        "\n",
        "\n",
        "    try:\n",
        "        driver = uc.Chrome(options=options)\n",
        "        driver.get('https://www.google.com')\n",
        "        print(\"Título da página:\", driver.title)\n",
        "        driver.quit()\n",
        "    except Exception as e:\n",
        "        logging.error(f\"An error occurred while initializing or using the driver: {e}\")\n",
        "\n",
        "\n",
        "if __name__ == '__main__':\n",
        "    # Configure logging to see the output\n",
        "    logging.basicConfig(level=logging.INFO, format='%(asctime)s - %(levelname)s - %(message)s')\n",
        "    main()\n"
      ],
      "metadata": {
        "colab": {
          "base_uri": "https://localhost:8080/"
        },
        "id": "Z2qMTN6wu8xN",
        "outputId": "b0d8c1d3-34de-4d1d-f78c-3c207534f73b"
      },
      "execution_count": 52,
      "outputs": [
        {
          "output_type": "stream",
          "name": "stderr",
          "text": [
            "ERROR:root:An error occurred while initializing or using the driver: Message: session not created: cannot connect to chrome at 127.0.0.1:58169\n",
            "from chrome not reachable\n",
            "Stacktrace:\n",
            "#0 0x5adbdf969c9a <unknown>\n",
            "#1 0x5adbdf40f533 <unknown>\n",
            "#2 0x5adbdf3faeb3 <unknown>\n",
            "#3 0x5adbdf44ed5c <unknown>\n",
            "#4 0x5adbdf4449b3 <unknown>\n",
            "#5 0x5adbdf4958b6 <unknown>\n",
            "#6 0x5adbdf494f76 <unknown>\n",
            "#7 0x5adbdf486c03 <unknown>\n",
            "#8 0x5adbdf45347b <unknown>\n",
            "#9 0x5adbdf4540e1 <unknown>\n",
            "#10 0x5adbdf92e44b <unknown>\n",
            "#11 0x5adbdf93237f <unknown>\n",
            "#12 0x5adbdf915f89 <unknown>\n",
            "#13 0x5adbdf932f18 <unknown>\n",
            "#14 0x5adbdf8fa6df <unknown>\n",
            "#15 0x5adbdf957308 <unknown>\n",
            "#16 0x5adbdf9574e6 <unknown>\n",
            "#17 0x5adbdf968b76 <unknown>\n",
            "#18 0x7a3b2dbafac3 <unknown>\n",
            "\n"
          ]
        }
      ]
    }
  ]
}