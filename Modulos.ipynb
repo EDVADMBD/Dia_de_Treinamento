{
  "nbformat": 4,
  "nbformat_minor": 0,
  "metadata": {
    "colab": {
      "provenance": []
    },
    "kernelspec": {
      "name": "python3",
      "display_name": "Python 3"
    },
    "language_info": {
      "name": "python"
    }
  },
  "cells": [
    {
      "cell_type": "code",
      "source": [
        "# utils\n",
        "# Instala as dependências\n",
        "!pip install -q selenium chromedriver-autoinstaller\n",
        "!apt-get update -qq\n",
        "!apt-get install -y chromium-browser\n",
        "\n",
        "import os\n",
        "import chromedriver_autoinstaller\n",
        "from selenium import webdriver\n",
        "from selenium.webdriver.chrome.service import Service\n",
        "from selenium.webdriver.chrome.options import Options\n",
        "\n",
        "# Atualiza PATH\n",
        "os.environ[\"PATH\"] += os.pathsep + '/usr/lib/chromium-browser/'\n",
        "\n",
        "# Instala a versão correta do chromedriver para o chromium instalado\n",
        "chromedriver_path = chromedriver_autoinstaller.install()\n",
        "\n",
        "chrome_options = Options()\n",
        "chrome_options.binary_location = \"/usr/bin/chromium-browser\"\n",
        "chrome_options.add_argument(\"--headless\")\n",
        "chrome_options.add_argument(\"--no-sandbox\")\n",
        "chrome_options.add_argument(\"--disable-dev-shm-usage\")\n",
        "chrome_options.add_argument(\"--disable-gpu\")\n",
        "chrome_options.add_argument(\"--remote-debugging-port=9222\")\n",
        "chrome_options.add_argument(\"--disable-software-rasterizer\")\n",
        "\n",
        "service = Service(chromedriver_path)\n",
        "\n",
        "driver = webdriver.Chrome(service=service, options=chrome_options)\n",
        "\n",
        "driver.get(\"https://www.google.com\")\n",
        "print(\"Título da página:\", driver.title)\n",
        "\n",
        "driver.quit()\n",
        "\n",
        "\n"
      ],
      "metadata": {
        "colab": {
          "base_uri": "https://localhost:8080/"
        },
        "id": "0vu1WEGzOI3D",
        "outputId": "1cf951a6-6dd2-4f06-e635-78eb8fb967e9"
      },
      "execution_count": 14,
      "outputs": [
        {
          "output_type": "stream",
          "name": "stdout",
          "text": [
            "W: Skipping acquire of configured file 'main/source/Sources' as repository 'https://r2u.stat.illinois.edu/ubuntu jammy InRelease' does not seem to provide it (sources.list entry misspelt?)\n",
            "Reading package lists... Done\n",
            "Building dependency tree... Done\n",
            "Reading state information... Done\n",
            "chromium-browser is already the newest version (1:85.0.4183.83-0ubuntu2.22.04.1).\n",
            "0 upgraded, 0 newly installed, 0 to remove and 34 not upgraded.\n",
            "Título da página: Google\n"
          ]
        }
      ]
    },
    {
      "cell_type": "code",
      "source": [
        "#screenshots\n",
        "import os\n",
        "import logging\n",
        "from selenium.webdriver.support.ui import WebDriverWait\n",
        "from selenium.webdriver.common.by import By\n",
        "from selenium.webdriver.support import expected_conditions as EC\n",
        "from selenium.common.exceptions import TimeoutException\n",
        "\n",
        "from modules.utils import esperar_elemento_invisivel\n",
        "\n",
        "\n",
        "def capturar_screenshot(driver, nome_arquivo, xpath_elemento, tempo_espera=10, output_dir=\"output\"):\n",
        "    logging.info(f\"Aguardando carregamento do elemento antes do screenshot: {xpath_elemento}...\")\n",
        "\n",
        "    wait = WebDriverWait(driver, tempo_espera)\n",
        "\n",
        "    esperar_elemento_invisivel(driver)\n",
        "\n",
        "    try:\n",
        "        wait.until(EC.presence_of_element_located((By.XPATH, xpath_elemento)))\n",
        "    except TimeoutException:\n",
        "        logging.error(f\"Elemento não encontrado no tempo limite: {xpath_elemento}\")\n",
        "        return False\n",
        "\n",
        "    os.makedirs(output_dir, exist_ok=True)  # Garante que a pasta existe\n",
        "\n",
        "    screenshot_path = os.path.join(output_dir, f\"{nome_arquivo}.png\")\n",
        "\n",
        "    logging.info(f\"Capturando screenshot e salvando em {screenshot_path}...\")\n",
        "    driver.save_screenshot(screenshot_path)\n",
        "\n",
        "    logging.info(\"Screenshot salvo com sucesso.\")\n",
        "    return True\n",
        "\n",
        "\n"
      ],
      "metadata": {
        "id": "ofxJwJpmTbbK"
      },
      "execution_count": 25,
      "outputs": []
    },
    {
      "cell_type": "code",
      "source": [
        "# Navigation_técnica\n",
        "\n",
        "from selenium.webdriver.common.by import By\n",
        "from selenium.webdriver.support.ui import WebDriverWait\n",
        "from selenium.webdriver.support import expected_conditions as EC\n",
        "import logging\n",
        "from core.xpaths import XPATHS\n",
        "from modules.utils import esperar_elemento_invisivel\n",
        "\n",
        "\n",
        "def navegar_para_hist_eventos(driver, timeout=10):\n",
        "    logging.info(\"Navegando para Técnica --> Histórico de eventos...\")\n",
        "    wait = WebDriverWait(driver, timeout)\n",
        "\n",
        "    try:\n",
        "        wait.until(EC.element_to_be_clickable((By.XPATH, XPATHS[\"menu_tecnica\"]))).click()\n",
        "        wait.until(EC.element_to_be_clickable((By.XPATH, XPATHS[\"submenu_hist_eventos\"]))).click()\n",
        "        esperar_elemento_invisivel(driver)\n",
        "    except Exception as e:\n",
        "        logging.error(f\"Erro ao navegar para Histórico de eventos: {e}\")\n",
        "        raise\n"
      ],
      "metadata": {
        "id": "NBdgDZ-JZrMj"
      },
      "execution_count": 26,
      "outputs": []
    },
    {
      "cell_type": "code",
      "source": [
        "import os\n",
        "\n",
        "# Cria as pastas core e modules\n",
        "os.makedirs(\"core\", exist_ok=True)\n",
        "os.makedirs(\"modules\", exist_ok=True)\n",
        "\n",
        "# Cria o __init__.py para transformar as pastas em pacotes Python\n",
        "open(\"core/__init__.py\", \"w\").close()\n",
        "open(\"modules/__init__.py\", \"w\").close()\n",
        "\n",
        "# Cria core/xpaths.py\n",
        "with open(\"core/xpaths.py\", \"w\") as f:\n",
        "    f.write(\"\"\"\n",
        "XPATHS = {\n",
        "    \"menu_tecnica\": \"//a[@id='menu_tecnica']\",\n",
        "    \"submenu_hist_eventos\": \"//a[@id='submenu_historico_eventos']\"\n",
        "}\n",
        "\"\"\")\n",
        "\n",
        "# Cria modules/utils.py\n",
        "with open(\"modules/utils.py\", \"w\") as f:\n",
        "    f.write(\"\"\"\n",
        "from selenium.webdriver.support.ui import WebDriverWait\n",
        "from selenium.webdriver.support import expected_conditions as EC\n",
        "from selenium.webdriver.common.by import By\n",
        "\n",
        "def esperar_elemento_invisivel(driver, xpath=\"//div[@class='loading']\"):\n",
        "    \\\"\"\"\n",
        "    Espera até que o elemento de carregamento desapareça da tela.\n",
        "    \\\"\"\"\n",
        "    WebDriverWait(driver, 10).until(\n",
        "        EC.invisibility_of_element_located((By.XPATH, xpath))\n",
        "    )\n",
        "\"\"\")\n"
      ],
      "metadata": {
        "id": "NQ5pQJ3TfW5P"
      },
      "execution_count": 27,
      "outputs": []
    },
    {
      "cell_type": "code",
      "source": [
        "#Navigation_produtos\n",
        "\n",
        "from selenium import webdriver\n",
        "from selenium.webdriver.common.action_chains import ActionChains\n",
        "from selenium.webdriver.common.by import By\n",
        "from selenium.webdriver.support.ui import WebDriverWait\n",
        "from selenium.webdriver.support import expected_conditions as EC\n",
        "import logging\n",
        "from core.xpaths import XPATHS\n",
        "from modules.utils import esperar_elemento_invisivel\n",
        "\n",
        "\n",
        "def navegar_para_equipamentos(driver):\n",
        "    logging.info(\"Navegando para Produtos --> Equipamentos...\")\n",
        "    wait = WebDriverWait(driver, 10)\n",
        "\n",
        "    wait.until(EC.element_to_be_clickable((By.XPATH, XPATHS[\"menu_produtos\"]))).click()\n",
        "    wait.until(EC.element_to_be_clickable((By.XPATH, XPATHS[\"submenu_equipamentos\"]))).click()\n",
        "\n",
        "    esperar_elemento_invisivel(driver)"
      ],
      "metadata": {
        "id": "fqvgc25jp8rB"
      },
      "execution_count": 29,
      "outputs": []
    },
    {
      "cell_type": "code",
      "source": [
        "#Navigation_financeiro\n",
        "\n",
        "from selenium.webdriver.common.by import By\n",
        "from selenium.webdriver.support.ui import WebDriverWait\n",
        "from selenium.webdriver.support import expected_conditions as EC\n",
        "import logging\n",
        "import time\n",
        "from core.xpaths import XPATHS\n",
        "from modules.utils import esperar_elemento_invisivel\n",
        "\n",
        "\n",
        "def navegar_para_faturas(driver):\n",
        "    logging.info(\"Navegando para Financeiro --> Faturas...\")\n",
        "    wait = WebDriverWait(driver, 10)\n",
        "\n",
        "    esperar_elemento_invisivel(driver)\n",
        "\n",
        "    wait.until(EC.element_to_be_clickable((By.XPATH, XPATHS[\"menu_financeiro\"]))).click()\n",
        "    wait.until(EC.element_to_be_clickable((By.XPATH, XPATHS[\"submenu_faturas\"]))).click()\n",
        "\n",
        "    esperar_elemento_invisivel(driver)\n",
        "\n",
        "    wait.until(EC.element_to_be_clickable((By.XPATH, XPATHS[\"radio_faturas\"]))).click()\n",
        "    wait.until(EC.element_to_be_clickable((By.XPATH, XPATHS[\"expandir_fatura\"]))).click()\n",
        "\n",
        "\n",
        "def navegar_para_negociacao(driver):\n",
        "    logging.info(\"Navegando para Financeiro --> Negociação...\")\n",
        "    wait = WebDriverWait(driver, 10)\n",
        "\n",
        "    esperar_elemento_invisivel(driver)\n",
        "\n",
        "    wait.until(EC.element_to_be_clickable((By.XPATH, XPATHS[\"menu_financeiro\"]))).click()\n",
        "    wait.until(EC.element_to_be_clickable((By.XPATH, XPATHS[\"submenu_negociacao\"]))).click()"
      ],
      "metadata": {
        "id": "eWGVi5KvqXfa"
      },
      "execution_count": 30,
      "outputs": []
    },
    {
      "cell_type": "code",
      "source": [
        "#Navigation_cadastro\n",
        "\n",
        "from selenium.webdriver.common.by import By\n",
        "from selenium.webdriver.support.ui import WebDriverWait\n",
        "from selenium.webdriver.support import expected_conditions as EC\n",
        "import logging\n",
        "import time\n",
        "from core.xpaths import XPATHS\n",
        "from modules.utils import esperar_elemento_invisivel\n",
        "\n",
        "\n",
        "def navegar_para_consulta_osi(driver):\n",
        "    logging.info(\"Navegando para Cadastro --> Consulta OSI...\")\n",
        "    wait = WebDriverWait(driver, 10)\n",
        "\n",
        "    wait.until(EC.element_to_be_clickable((By.XPATH, XPATHS[\"menu_cadastro\"]))).click()\n",
        "    wait.until(EC.element_to_be_clickable((By.XPATH, XPATHS[\"submenu_consulta_osi\"]))).click()\n",
        "\n",
        "    esperar_elemento_invisivel(driver)"
      ],
      "metadata": {
        "id": "ua5SeUmGqnow"
      },
      "execution_count": 31,
      "outputs": []
    },
    {
      "cell_type": "code",
      "source": [
        "#Login\n",
        "\n",
        "from selenium.webdriver.common.by import By\n",
        "from selenium.webdriver.support.ui import WebDriverWait\n",
        "from selenium.webdriver.support import expected_conditions as EC\n",
        "from selenium.webdriver.common.keys import Keys\n",
        "import logging\n",
        "import time\n",
        "from core.xpaths import XPATHS\n",
        "from modules.utils import esperar_elemento_invisivel\n",
        "\n",
        "\n",
        "def realizar_login(driver, usuario, senha):\n",
        "    logging.info(\"Realizando login...\")\n",
        "    wait = WebDriverWait(driver, 10)\n",
        "\n",
        "    usuario_input = wait.until(EC.presence_of_element_located((By.XPATH, XPATHS[\"usuario\"])))\n",
        "    usuario_input.send_keys(usuario)\n",
        "\n",
        "    senha_input = wait.until(EC.visibility_of_element_located((By.XPATH, XPATHS[\"senha\"])))\n",
        "    senha_input.send_keys(senha)\n",
        "\n",
        "    botao_login = wait.until(EC.element_to_be_clickable((By.XPATH, XPATHS[\"botao_login\"])))\n",
        "    botao_login.click()\n",
        "\n",
        "\n",
        "def inserir_codigo_icare(driver, codigo):\n",
        "    logging.info(\"Inserindo código ICare...\")\n",
        "    wait = WebDriverWait(driver, 10)\n",
        "\n",
        "    campo_icare = wait.until(EC.element_to_be_clickable((By.XPATH, XPATHS[\"codigo_icare\"])))\n",
        "    campo_icare.send_keys(codigo)\n",
        "    campo_icare.send_keys(Keys.ENTER)"
      ],
      "metadata": {
        "id": "9dWxuHQrq5_X"
      },
      "execution_count": 32,
      "outputs": []
    }
  ]
}